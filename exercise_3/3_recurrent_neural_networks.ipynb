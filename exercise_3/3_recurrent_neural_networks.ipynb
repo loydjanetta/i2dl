{
 "cells": [
  {
   "cell_type": "markdown",
   "metadata": {},
   "source": [
    "Recurrent Neural Networks (RNN)\n",
    "====================\n",
    "\n",
    "In this exercise we will work with Recurrent Neural Networks (RNN). A RNN is class of neural networks where the output not only depends on the current input but also on previous inputs along a given input sequence. This allows to exhibit temporal dynamic behaviour and contextual information in a sequence. Common applications for RNN are:\n",
    "\n",
    "- time series analysis\n",
    "- speech recognition\n",
    "- machine translation\n",
    "- image captioning\n",
    "\n",
    "\n",
    "Goal of this exercise\n",
    "========\n",
    "\n",
    "This exercise notebook should help you to experiment how recurrent neural networks are implemented, trained, and used for computer vision problems. Therefore, this notebook is structured as follows:\n",
    "1. Implement your own simple RNN class in Pytorch.\n",
    "2. Explore the backpropagation of the gradients in the RNN and discuss the vanishing gradient problem.\n",
    "3. Implement your own LSTM (Long-Short Term Memory) Network and show that this architecture improves the vanishing gradient problem.\n",
    "4. Build a RNN classifier for the MNIST dataset and train your model.\n",
    "5. Tune the hyperparameters of your model and submit your best model to the server to get bonus points.\n",
    "\n"
   ]
  },
  {
   "cell_type": "code",
   "execution_count": 1,
   "metadata": {},
   "outputs": [],
   "source": [
    "import numpy as np\n",
    "import matplotlib.pyplot as plt\n",
    "import torch\n",
    "from torch.autograd import Variable\n",
    "import os\n",
    "\n",
    "device = torch.device(\"cuda:0\" if torch.cuda.is_available() else \"cpu\")\n",
    "\n",
    "%matplotlib inline\n",
    "plt.rcParams['figure.figsize'] = (10.0, 8.0) # set default size of plots\n",
    "plt.rcParams['image.interpolation'] = 'nearest'\n",
    "plt.rcParams['image.cmap'] = 'gray'\n",
    "\n",
    "# for auto-reloading external modules\n",
    "# see http://stackoverflow.com/questions/1907993/autoreload-of-modules-in-ipython\n",
    "%load_ext autoreload\n",
    "%autoreload 2"
   ]
  },
  {
   "cell_type": "code",
   "execution_count": 2,
   "metadata": {},
   "outputs": [
    {
     "name": "stdout",
     "output_type": "stream",
     "text": [
      "Using python:  3.7.4\n",
      "Using torch version:  1.3.1\n",
      "Using device:  cuda:0\n"
     ]
    }
   ],
   "source": [
    "import platform\n",
    "print('Using python: ', platform.python_version())\n",
    "print('Using torch version: ', torch.__version__)\n",
    "print('Using device: ', device)\n",
    "# Machine: 2015 13\" Macbook Pro, i5 dual core"
   ]
  },
  {
   "attachments": {
    "image.png": {
     "image/png": "[encoded data removed]"
    }
   },
   "cell_type": "markdown",
   "metadata": {},
   "source": [
    "## Simple Recurrent Neural Network\n",
    "\n",
    "The recurrent loops in a RNN allow relevant information to persist over time. A simple RNN architecture is shown here:\n",
    "<img src=http://colah.github.io/posts/2015-08-Understanding-LSTMs/img/RNN-rolled.png width=\"150\">\n",
    "\n",
    "A simple RNN takes not only an input X at time step t but also passes a hidden state that is the output of the previous time step into the network. The output of a RNN cell at time step t reads in Eq. 1:\n",
    "\n",
    "![image.png](attachment:image.png)\n",
    "\n",
    "In this task you have to implement a simple one-layer RNN as a class in Pytorch, where you can choose a relu or tanh activation in the cell.You can see the architecture of a simple RNN in the figure below.\n",
    "\n",
    "\n",
    "<img src=http://colah.github.io/posts/2015-08-Understanding-LSTMs/img/LSTM3-SimpleRNN.png width=\"600\">\n",
    "\n"
   ]
  },
  {
   "cell_type": "code",
   "execution_count": 3,
   "metadata": {},
   "outputs": [],
   "source": [
    "# ToDo: Implement the RNN class\n",
    "from exercise_code.rnn.rnn_nn import RNN"
   ]
  },
  {
   "cell_type": "markdown",
   "metadata": {},
   "source": [
    "Luckily, Pytorch already has implemented a simple RNN in their library and you can call the RNN with <code>nn.RNN</code>. We will use the Pytorch RNN function to check if we have built the correct cell and compare the output of both functions. We also compare the running time of both classes."
   ]
  },
  {
   "cell_type": "code",
   "execution_count": 4,
   "metadata": {},
   "outputs": [
    {
     "name": "stdout",
     "output_type": "stream",
     "text": [
      "Differnce between pytorch and your RNN implementation: 0.0\n",
      "Cool, you implemented a correct model.\n"
     ]
    }
   ],
   "source": [
    "import torch.nn as nn\n",
    "import timeit\n",
    "\n",
    "# choose your network parameters\n",
    "input_size = 3\n",
    "hidden_dim = 3\n",
    "seq_len = 10 \n",
    "\n",
    "# define the two models\n",
    "pytorch_rnn=nn.RNN(input_size, hidden_dim)\n",
    "i2dl_rnn=RNN(input_size, hidden_dim)\n",
    "\n",
    "# initialise both rnn with same values\n",
    "for p in pytorch_rnn.parameters():\n",
    "    nn.init.constant_(p, val=0.3)\n",
    "for p in i2dl_rnn.parameters():\n",
    "    nn.init.constant_(p, val=0.3)\n",
    "    \n",
    "X=torch.randn(seq_len, 1, input_size)\n",
    "\n",
    "output_pytorch, h_pytorch = pytorch_rnn(X)\n",
    "output_i2dl, h_i2dl = i2dl_rnn(X)\n",
    "\n",
    "\n",
    "# The difference of outputs should be 0!!\n",
    "\n",
    "diff = torch.sum((output_pytorch-output_i2dl) ** 2)\n",
    "print(\"Differnce between pytorch and your RNN implementation: %s\" % diff.item())\n",
    "if diff.item() < 10 ** -10:\n",
    "    print(\"Cool, you implemented a correct model.\")\n",
    "else:\n",
    "    print(\"Upps! There is something wrong in your model. Try again!\")"
   ]
  },
  {
   "cell_type": "code",
   "execution_count": 5,
   "metadata": {},
   "outputs": [
    {
     "name": "stdout",
     "output_type": "stream",
     "text": [
      "Time Pytorch RNN 10000 runs: 3.634s\n",
      "Time I2DL RNN 10000 run: 11.901s\n"
     ]
    }
   ],
   "source": [
    "import timeit\n",
    "runs=10 ** 4\n",
    "\n",
    "print(\"Time Pytorch RNN {} runs: {:.3f}s\".format(runs, timeit.timeit(\"pytorch_rnn(X)\", \n",
    "                                       setup=\"from __main__ import pytorch_rnn, X\", \n",
    "                                       number=runs))\n",
    "     )\n",
    "\n",
    "print(\"Time I2DL RNN {} run: {:.3f}s\".format(runs, timeit.timeit(\"i2dl_rnn(X)\", \n",
    "                                       setup=\"from __main__ import i2dl_rnn, X\", \n",
    "                                       number=runs))\n",
    "     )"
   ]
  },
  {
   "cell_type": "markdown",
   "metadata": {},
   "source": [
    "From now on we will use the Pytorch module that is faster and optimised in performance. However, it is always a good exercise to build the functions by yourself and we really advice you to do the exercise!"
   ]
  },
  {
   "cell_type": "markdown",
   "metadata": {},
   "source": [
    "## Vanishing Gradient\n",
    "\n",
    "As discussed in the lecture, the simple RNN suffers from vanishing gradients in the backpropagation. The hidden state is manipulated in every time step along the sequence and the effect of the past inputs to the final output vanishes with the distance in time. In the next cell we will explore the vanishing effect of previous inputs in the RNN."
   ]
  },
  {
   "cell_type": "code",
   "execution_count": 6,
   "metadata": {},
   "outputs": [],
   "source": [
    "############################################################################\n",
    "# TODO: Define a RNN and explore the gradients on the output h_T wrt. the  #\n",
    "# input at time t and plot your result. What behaviour do you observe?     #\n",
    "# Hints:                                                                   #\n",
    "#   - use one input feature                                                #\n",
    "#   - pytorch allows backward() pass wrt. to any vector                    #\n",
    "#   - backward() can only be applied to scalars and not to output tensors  #\n",
    "#   - choose a good representation of the gradient plot                    #\n",
    "############################################################################\n",
    " \n",
    "    \n",
    "    \n",
    "############################################################################\n",
    "#                             END OF YOUR CODE                             #\n",
    "############################################################################"
   ]
  },
  {
   "cell_type": "markdown",
   "metadata": {},
   "source": [
    "\n",
    "<div class=\"alert alert-info\">\n",
    "    <h3>Note</h3>\n",
    "    <p>It can be seen that the gradient of the output at time t wrt. to a previous input decreases exponentially. Hence, the final output does not change significantly for changes in the previous input and hence the RNN does not have memory.</p> \n",
    "<h3>Question</h3> \n",
    "<p>In order to better understand the vanishing gradient problem, calculate the gradients \n",
    "dh_t/dV, dh_t /dW, and dh_t/dX_0 analytically for t=3 and h_0=0 using Eq. 1. This exercise might seem a little bit tedious but it is really useful. Can you explain the vanishing gradient mathematically based on your findings?</p>\n",
    "</div>"
   ]
  },
  {
   "cell_type": "markdown",
   "metadata": {},
   "source": [
    "## Long-Short Term Memory Network (LSTM)\n",
    "The vanishing gradient problem had been known for some time until Schmidhuber (1997) developed the Long-Short Term Memory Network and showed that this architecture can overcome the problem. <br> \n",
    "A LSTM is a more advanced recurrent network architecture that is able to learn long time dependencies. The architecture of a LSTM is composed of a forget, input, and output gate and the cell can remember values over arbitrary time intervals. Despite various different and exotic LSTM architectures, the standard LSTM cell is shwon in the figure below:\n",
    "\n",
    "\n",
    "<img src=http://colah.github.io/posts/2015-08-Understanding-LSTMs/img/LSTM3-chain.png width=\"600\">\n",
    "\n"
   ]
  },
  {
   "cell_type": "markdown",
   "metadata": {},
   "source": [
    "Compared to a simple RNN the LSTM cell has a hidden vector and an additional cell state vector. __What size does the cell state have?__ <br>\n",
    "The operations inside the LSTM are given as \n",
    "\n",
    "<img src=https://wikimedia.org/api/rest_v1/media/math/render/svg/2db2cba6a0d878e13932fa27ce6f3fb71ad99cf1  width=\"600\">\n",
    "where \n",
    "f_t: forget gate,  <br>\n",
    "i_t: input gate, <br>\n",
    "o_t: output gate, <br>\n",
    "h_t: hidden state vector, <br>\n",
    "c_t: cell state vector, <br>\n",
    "x_t: input vector, <br>\n",
    "t is time step, \n",
    "<br> \n",
    "<br> \n",
    "and<br> \n",
    "sigma_g: sigmoid activation <br> \n",
    "sigma_c and sigma_h: hyperbolic tangent function\n"
   ]
  },
  {
   "cell_type": "markdown",
   "metadata": {},
   "source": [
    "In the next step you should implement your own LSTM with the operations stated above."
   ]
  },
  {
   "cell_type": "code",
   "execution_count": 7,
   "metadata": {},
   "outputs": [],
   "source": [
    "# ToDo: Implement the RNN class\n",
    "from exercise_code.rnn.rnn_nn import LSTM"
   ]
  },
  {
   "cell_type": "code",
   "execution_count": 8,
   "metadata": {},
   "outputs": [
    {
     "name": "stdout",
     "output_type": "stream",
     "text": [
      "Differnce between pytorch and your RNN implementation: 6.661338147750939e-16\n",
      "Cool, you implemented a correct model.\n"
     ]
    }
   ],
   "source": [
    "\n",
    "# choose your input parameters\n",
    "input_size = 3\n",
    "hidden_dim = 3\n",
    "seq_len = 10 \n",
    "\n",
    "# define the two models\n",
    "pytorch_lstm=nn.LSTM(input_size, hidden_dim)\n",
    "i2dl_lstm=LSTM(input_size, hidden_dim)\n",
    "\n",
    "# initialise both lstms with same values\n",
    "for p in pytorch_lstm.parameters():\n",
    "    nn.init.constant_(p, val=0.3)\n",
    "for p in i2dl_lstm.parameters():\n",
    "    nn.init.constant_(p, val=0.3)\n",
    "    \n",
    "X=torch.randn(seq_len, 1, input_size)\n",
    "\n",
    "output_pytorch, (h_pytorch, _) = pytorch_lstm(X)\n",
    "output_i2dl , (h_i2dl, _ )= i2dl_lstm(X)\n",
    "\n",
    "# The difference of outputs should be 0!!\n",
    "diff = torch.sum((output_pytorch-output_i2dl) ** 2)\n",
    "print(\"Differnce between pytorch and your RNN implementation: %s\" % diff.item())\n",
    "if diff.item() < 10 ** -10:\n",
    "    print(\"Cool, you implemented a correct model.\")\n",
    "else:\n",
    "    print(\"Upps! There is something wrong in your model. Try again!\")"
   ]
  },
  {
   "cell_type": "code",
   "execution_count": 9,
   "metadata": {},
   "outputs": [
    {
     "name": "stdout",
     "output_type": "stream",
     "text": [
      "Time Pytorch LSTM 10000 runs: 8.623s\n",
      "Time I2DL LSTM 10000 runs: 47.975s\n"
     ]
    }
   ],
   "source": [
    "import timeit\n",
    "runs=10 ** 4\n",
    "\n",
    "print(\"Time Pytorch LSTM {} runs: {:.3f}s\".format(runs, timeit.timeit(\"pytorch_lstm(X)\", \n",
    "                                       setup=\"from __main__ import pytorch_lstm, X\", \n",
    "                                       number=runs))\n",
    "     )\n",
    "\n",
    "print(\"Time I2DL LSTM {} runs: {:.3f}s\".format(runs, timeit.timeit(\"i2dl_lstm(X)\", \n",
    "                                       setup=\"from __main__ import i2dl_lstm, X\", \n",
    "                                       number=runs))\n",
    "     )"
   ]
  },
  {
   "cell_type": "markdown",
   "metadata": {},
   "source": [
    "## Explore Gradients \n",
    "Analogously to the RNN, calculate the gradients of the input wrt. to the output of the LSTM and compare it against the RNN gradients. __What do you see?__\n"
   ]
  },
  {
   "cell_type": "code",
   "execution_count": 10,
   "metadata": {},
   "outputs": [],
   "source": [
    "############################################################################\n",
    "# TODO: Define a RNN and LSTM and explore the gradients on the output h_T   #\n",
    "# wrt. the input at time t and plot your result.                           #\n",
    "############################################################################\n",
    "\n",
    "\n",
    "\n",
    "############################################################################\n",
    "#                             END OF YOUR CODE                             #\n",
    "############################################################################"
   ]
  },
  {
   "cell_type": "markdown",
   "metadata": {},
   "source": [
    "## MNIST image classification with RNNs\n",
    "\n",
    "In the previous exercises we already have classified images with a Fully Connected and Convolutional Network. In this exercise, we will solve the problem of image classification with a recurrent neural network.  \n",
    "\n",
    "For the experiment we use the MNIST handwritten digits dataset which we already know from the autoencoder exercise. This dataset consists of images of the 10 different digits (10 classes). The images have the resolution 28 x 28. The idea for the RNN classifier is to interpret the image as a sequence of rows. This means that we pass the rows through the RNN and use the final hidden state for classification. "
   ]
  },
  {
   "cell_type": "markdown",
   "metadata": {},
   "source": [
    "\n",
    "<div class=\"alert alert-info\">\n",
    "    <h3>Note</h3>\n",
    "    <p>\n",
    "    In this semester you have seen three different types of neural networks, namely Multi-Layer Perceptrons (MLPs), Convolutional Neural Networks (CNNs), and now Recurrent Neural Networks (RNNs). We have seen that we can use all three architectures for image classification. However, it turned out that some models are better than others for image classification. Try to think about advantages and disadvantages of the models, regarding # of parameters, transformations of the object in the image (scaling, rotation, translation,...), training time, testing time, over-fitting, etc."
   ]
  },
  {
   "cell_type": "code",
   "execution_count": 12,
   "metadata": {},
   "outputs": [],
   "source": [
    "# Define data loader\n",
    "from torchvision import transforms\n",
    "import pickle\n",
    "\n",
    "class Unsqueeze(object):\n",
    "    \"\"\"Adds a channel dimension that that our 2 dimensional input (H, W), \n",
    "    fits the 3 dimensional (H, W, C) expectations of pytorch's ToTensor function which\n",
    "    expects a PIL image. This is very inefficient but you most probably will use pytorch's\n",
    "    PIL image loader. Check out the documentation and make it more efficient :)\n",
    "    \"\"\"\n",
    "    def __init__(self, dimension=0):\n",
    "        self.dimension = dimension\n",
    "    def __call__(self, numpy_array):\n",
    "        extended_array = np.expand_dims(numpy_array, self.dimension)\n",
    "        return extended_array\n",
    "    def __repr__(self):\n",
    "        return self.__class__.__name__ + 'dimension={}'.format(dimension)\n",
    "\n",
    "    \n",
    "# transformation of data\n",
    "transform = transforms.Compose([\n",
    "    Unsqueeze(dimension=3),     \n",
    "    transforms.ToTensor(),\n",
    "    transforms.Normalize(mean=(0.5,), std=(0.5,))\n",
    "])\n",
    "\n",
    "\n",
    "class MnistDataset(torch.utils.data.Dataset):\n",
    "    def __init__(self, images, labels, \n",
    "                 transform=None):\n",
    "        super(MnistDataset, self).__init__()\n",
    "        self.images = images\n",
    "        self.labels = labels\n",
    "        self.transform = transform\n",
    "       \n",
    "    def __len__(self):\n",
    "        return len(self.images)\n",
    "    \n",
    "    def __getitem__(self, idx):\n",
    "        image = self.images[idx]\n",
    "        label = self.labels[idx]\n",
    "        if self.transform: \n",
    "            image = self.transform(image)\n",
    "        return image, label\n",
    "\n",
    "    \n",
    "# loading the train data\n",
    "with open(\"../datasets/mnist/mnist_train.p\", \"rb\") as f:\n",
    "    mnist_raw = pickle.load(f)\n",
    "\n",
    "X, y = mnist_raw\n",
    "############################################################################\n",
    "# TODO: Set a useful training/ validation split                            #\n",
    "############################################################################    \n",
    "train_split = 0.8\n",
    "\n",
    "############################################################################\n",
    "#                             END OF YOUR CODE                             #\n",
    "############################################################################\n",
    "\n",
    "\n",
    "train_dset = MnistDataset(X[:int(len(X) * train_split)], y[:int(len(X) * train_split)], transform=transform)\n",
    "val_dset = MnistDataset(X[int(len(X) * train_split):], y[int(len(X) * train_split):], transform=transform)\n"
   ]
  },
  {
   "cell_type": "code",
   "execution_count": 13,
   "metadata": {},
   "outputs": [
    {
     "data": {
      "image/png": "[encoded data removed]",
      "text/plain": [
       "<Figure size 432x288 with 50 Axes>"
      ]
     },
     "metadata": {
      "needs_background": "light"
     },
     "output_type": "display_data"
    }
   ],
   "source": [
    "# Visualize some examples from the dataset. Stolen from other notebooks\n",
    "# We show a few examples of training images from each class.\n",
    "X=train_dset.images\n",
    "y=train_dset.labels\n",
    "\n",
    "\n",
    "classes = list(range(10))\n",
    "num_classes = len(classes)\n",
    "samples_per_class = 5\n",
    "for y_hat, cls in enumerate(classes):\n",
    "    idxs = np.flatnonzero(train_dset.labels == y_hat)\n",
    "    idxs = np.random.choice(idxs, samples_per_class, replace=False)\n",
    "    for i, idx in enumerate(idxs):\n",
    "        plt_idx = i * num_classes + y_hat + 1\n",
    "        plt.subplot(samples_per_class, num_classes, plt_idx)\n",
    "        plt.imshow(X[idx])\n",
    "        plt.axis('off')\n",
    "        if i == 0:\n",
    "            plt.title(cls)\n",
    "plt.show()"
   ]
  },
  {
   "cell_type": "markdown",
   "metadata": {},
   "source": [
    "Build a classifier based on a RNN where you sequentially feed the rows in the network and use the final hidden state for prediction."
   ]
  },
  {
   "cell_type": "markdown",
   "metadata": {},
   "source": [
    "<img src=https://cdn-images-1.medium.com/max/800/1*Cm_c-I02rBa1rtLZXBhNUw.png width=\"600\">\n"
   ]
  },
  {
   "cell_type": "code",
   "execution_count": 14,
   "metadata": {},
   "outputs": [],
   "source": [
    "from exercise_code.rnn.rnn_nn import LSTM_Classifier, RNN_Classifier\n",
    "model_rnn = LSTM_Classifier()\n"
   ]
  },
  {
   "cell_type": "code",
   "execution_count": 15,
   "metadata": {},
   "outputs": [],
   "source": [
    "from exercise_code.rnn.solver import Solver"
   ]
  },
  {
   "cell_type": "code",
   "execution_count": 16,
   "metadata": {
    "scrolled": false
   },
   "outputs": [
    {
     "name": "stdout",
     "output_type": "stream",
     "text": [
      "START TRAIN.\n"
     ]
    },
    {
     "name": "stderr",
     "output_type": "stream",
     "text": [
      "/home/lfc199471/anaconda3/lib/python3.7/site-packages/ipykernel_launcher.py:14: DeprecationWarning: Both axis > a.ndim and axis < -a.ndim - 1 are deprecated and will raise an AxisError in the future.\n",
      "  \n"
     ]
    },
    {
     "name": "stdout",
     "output_type": "stream",
     "text": [
      "[Iteration 50/15000] TRAIN loss: 2.276\n",
      "[Iteration 100/15000] TRAIN loss: 1.595\n",
      "[Iteration 150/15000] TRAIN loss: 1.035\n",
      "[Iteration 200/15000] TRAIN loss: 0.745\n",
      "[Iteration 250/15000] TRAIN loss: 0.559\n",
      "[Iteration 300/15000] TRAIN loss: 0.493\n",
      "[Iteration 350/15000] TRAIN loss: 0.401\n",
      "[Iteration 400/15000] TRAIN loss: 0.393\n",
      "[Iteration 450/15000] TRAIN loss: 0.290\n",
      "[Iteration 500/15000] TRAIN loss: 0.309\n",
      "[Iteration 550/15000] TRAIN loss: 0.313\n",
      "[Iteration 600/15000] TRAIN loss: 0.267\n",
      "[Iteration 650/15000] TRAIN loss: 0.268\n",
      "[Iteration 700/15000] TRAIN loss: 0.246\n",
      "[Iteration 750/15000] TRAIN loss: 0.195\n",
      "[Iteration 800/15000] TRAIN loss: 0.254\n",
      "[Iteration 850/15000] TRAIN loss: 0.235\n",
      "[Iteration 900/15000] TRAIN loss: 0.234\n",
      "[Iteration 950/15000] TRAIN loss: 0.222\n",
      "[Iteration 1000/15000] TRAIN loss: 0.197\n",
      "[Iteration 1050/15000] TRAIN loss: 0.196\n",
      "[Iteration 1100/15000] TRAIN loss: 0.169\n",
      "[Iteration 1150/15000] TRAIN loss: 0.177\n",
      "[Iteration 1200/15000] TRAIN loss: 0.150\n",
      "[Iteration 1250/15000] TRAIN loss: 0.136\n",
      "[Iteration 1300/15000] TRAIN loss: 0.182\n",
      "[Iteration 1350/15000] TRAIN loss: 0.178\n",
      "[Iteration 1400/15000] TRAIN loss: 0.164\n",
      "[Iteration 1450/15000] TRAIN loss: 0.135\n",
      "[Iteration 1500/15000] TRAIN loss: 0.159\n",
      "[Epoch 1/10] TRAIN acc/loss: 0.938/0.159\n",
      "[Epoch 1/10] VAL   acc/loss: 0.950/0.163\n",
      "[Iteration 1550/15000] TRAIN loss: 0.121\n",
      "[Iteration 1600/15000] TRAIN loss: 0.147\n",
      "[Iteration 1650/15000] TRAIN loss: 0.127\n",
      "[Iteration 1700/15000] TRAIN loss: 0.125\n",
      "[Iteration 1750/15000] TRAIN loss: 0.142\n",
      "[Iteration 1800/15000] TRAIN loss: 0.123\n",
      "[Iteration 1850/15000] TRAIN loss: 0.087\n",
      "[Iteration 1900/15000] TRAIN loss: 0.105\n",
      "[Iteration 1950/15000] TRAIN loss: 0.138\n",
      "[Iteration 2000/15000] TRAIN loss: 0.102\n",
      "[Iteration 2050/15000] TRAIN loss: 0.139\n",
      "[Iteration 2100/15000] TRAIN loss: 0.113\n",
      "[Iteration 2150/15000] TRAIN loss: 0.125\n",
      "[Iteration 2200/15000] TRAIN loss: 0.123\n",
      "[Iteration 2250/15000] TRAIN loss: 0.126\n",
      "[Iteration 2300/15000] TRAIN loss: 0.116\n",
      "[Iteration 2350/15000] TRAIN loss: 0.108\n",
      "[Iteration 2400/15000] TRAIN loss: 0.104\n",
      "[Iteration 2450/15000] TRAIN loss: 0.116\n",
      "[Iteration 2500/15000] TRAIN loss: 0.099\n",
      "[Iteration 2550/15000] TRAIN loss: 0.118\n",
      "[Iteration 2600/15000] TRAIN loss: 0.117\n",
      "[Iteration 2650/15000] TRAIN loss: 0.089\n",
      "[Iteration 2700/15000] TRAIN loss: 0.124\n",
      "[Iteration 2750/15000] TRAIN loss: 0.095\n",
      "[Iteration 2800/15000] TRAIN loss: 0.099\n",
      "[Iteration 2850/15000] TRAIN loss: 0.096\n",
      "[Iteration 2900/15000] TRAIN loss: 0.115\n",
      "[Iteration 2950/15000] TRAIN loss: 0.080\n",
      "[Iteration 3000/15000] TRAIN loss: 0.081\n",
      "[Epoch 2/10] TRAIN acc/loss: 0.938/0.081\n",
      "[Epoch 2/10] VAL   acc/loss: 0.977/0.082\n",
      "[Iteration 3050/15000] TRAIN loss: 0.083\n",
      "[Iteration 3100/15000] TRAIN loss: 0.076\n",
      "[Iteration 3150/15000] TRAIN loss: 0.063\n",
      "[Iteration 3200/15000] TRAIN loss: 0.054\n",
      "[Iteration 3250/15000] TRAIN loss: 0.071\n",
      "[Iteration 3300/15000] TRAIN loss: 0.134\n",
      "[Iteration 3350/15000] TRAIN loss: 0.100\n",
      "[Iteration 3400/15000] TRAIN loss: 0.087\n",
      "[Iteration 3450/15000] TRAIN loss: 0.079\n",
      "[Iteration 3500/15000] TRAIN loss: 0.064\n",
      "[Iteration 3550/15000] TRAIN loss: 0.081\n",
      "[Iteration 3600/15000] TRAIN loss: 0.115\n",
      "[Iteration 3650/15000] TRAIN loss: 0.085\n",
      "[Iteration 3700/15000] TRAIN loss: 0.063\n",
      "[Iteration 3750/15000] TRAIN loss: 0.077\n",
      "[Iteration 3800/15000] TRAIN loss: 0.072\n",
      "[Iteration 3850/15000] TRAIN loss: 0.058\n",
      "[Iteration 3900/15000] TRAIN loss: 0.095\n",
      "[Iteration 3950/15000] TRAIN loss: 0.107\n",
      "[Iteration 4000/15000] TRAIN loss: 0.086\n",
      "[Iteration 4050/15000] TRAIN loss: 0.078\n",
      "[Iteration 4100/15000] TRAIN loss: 0.064\n",
      "[Iteration 4150/15000] TRAIN loss: 0.064\n",
      "[Iteration 4200/15000] TRAIN loss: 0.087\n",
      "[Iteration 4250/15000] TRAIN loss: 0.084\n",
      "[Iteration 4300/15000] TRAIN loss: 0.072\n",
      "[Iteration 4350/15000] TRAIN loss: 0.074\n",
      "[Iteration 4400/15000] TRAIN loss: 0.076\n",
      "[Iteration 4450/15000] TRAIN loss: 0.053\n",
      "[Iteration 4500/15000] TRAIN loss: 0.041\n",
      "[Epoch 3/10] TRAIN acc/loss: 1.000/0.041\n",
      "[Epoch 3/10] VAL   acc/loss: 0.972/0.089\n",
      "[Iteration 4550/15000] TRAIN loss: 0.069\n",
      "[Iteration 4600/15000] TRAIN loss: 0.086\n",
      "[Iteration 4650/15000] TRAIN loss: 0.078\n",
      "[Iteration 4700/15000] TRAIN loss: 0.071\n",
      "[Iteration 4750/15000] TRAIN loss: 0.057\n",
      "[Iteration 4800/15000] TRAIN loss: 0.064\n",
      "[Iteration 4850/15000] TRAIN loss: 0.058\n",
      "[Iteration 4900/15000] TRAIN loss: 0.061\n",
      "[Iteration 4950/15000] TRAIN loss: 0.047\n",
      "[Iteration 5000/15000] TRAIN loss: 0.054\n",
      "[Iteration 5050/15000] TRAIN loss: 0.073\n",
      "[Iteration 5100/15000] TRAIN loss: 0.049\n",
      "[Iteration 5150/15000] TRAIN loss: 0.058\n",
      "[Iteration 5200/15000] TRAIN loss: 0.054\n",
      "[Iteration 5250/15000] TRAIN loss: 0.062\n",
      "[Iteration 5300/15000] TRAIN loss: 0.043\n",
      "[Iteration 5350/15000] TRAIN loss: 0.074\n",
      "[Iteration 5400/15000] TRAIN loss: 0.049\n",
      "[Iteration 5450/15000] TRAIN loss: 0.069\n",
      "[Iteration 5500/15000] TRAIN loss: 0.056\n",
      "[Iteration 5550/15000] TRAIN loss: 0.076\n",
      "[Iteration 5600/15000] TRAIN loss: 0.068\n",
      "[Iteration 5650/15000] TRAIN loss: 0.060\n",
      "[Iteration 5700/15000] TRAIN loss: 0.062\n",
      "[Iteration 5750/15000] TRAIN loss: 0.088\n",
      "[Iteration 5800/15000] TRAIN loss: 0.039\n",
      "[Iteration 5850/15000] TRAIN loss: 0.067\n",
      "[Iteration 5900/15000] TRAIN loss: 0.085\n",
      "[Iteration 5950/15000] TRAIN loss: 0.057\n",
      "[Iteration 6000/15000] TRAIN loss: 0.058\n",
      "[Epoch 4/10] TRAIN acc/loss: 0.969/0.058\n",
      "[Epoch 4/10] VAL   acc/loss: 0.981/0.069\n",
      "[Iteration 6050/15000] TRAIN loss: 0.040\n",
      "[Iteration 6100/15000] TRAIN loss: 0.038\n",
      "[Iteration 6150/15000] TRAIN loss: 0.032\n",
      "[Iteration 6200/15000] TRAIN loss: 0.040\n",
      "[Iteration 6250/15000] TRAIN loss: 0.052\n",
      "[Iteration 6300/15000] TRAIN loss: 0.061\n",
      "[Iteration 6350/15000] TRAIN loss: 0.045\n",
      "[Iteration 6400/15000] TRAIN loss: 0.059\n",
      "[Iteration 6450/15000] TRAIN loss: 0.047\n",
      "[Iteration 6500/15000] TRAIN loss: 0.051\n",
      "[Iteration 6550/15000] TRAIN loss: 0.078\n",
      "[Iteration 6600/15000] TRAIN loss: 0.050\n",
      "[Iteration 6650/15000] TRAIN loss: 0.058\n",
      "[Iteration 6700/15000] TRAIN loss: 0.067\n",
      "[Iteration 6750/15000] TRAIN loss: 0.045\n",
      "[Iteration 6800/15000] TRAIN loss: 0.076\n",
      "[Iteration 6850/15000] TRAIN loss: 0.050\n",
      "[Iteration 6900/15000] TRAIN loss: 0.042\n",
      "[Iteration 6950/15000] TRAIN loss: 0.037\n",
      "[Iteration 7000/15000] TRAIN loss: 0.068\n",
      "[Iteration 7050/15000] TRAIN loss: 0.052\n",
      "[Iteration 7100/15000] TRAIN loss: 0.045\n",
      "[Iteration 7150/15000] TRAIN loss: 0.039\n",
      "[Iteration 7200/15000] TRAIN loss: 0.052\n",
      "[Iteration 7250/15000] TRAIN loss: 0.046\n",
      "[Iteration 7300/15000] TRAIN loss: 0.040\n",
      "[Iteration 7350/15000] TRAIN loss: 0.049\n",
      "[Iteration 7400/15000] TRAIN loss: 0.043\n",
      "[Iteration 7450/15000] TRAIN loss: 0.058\n",
      "[Iteration 7500/15000] TRAIN loss: 0.089\n",
      "[Epoch 5/10] TRAIN acc/loss: 0.906/0.089\n",
      "[Epoch 5/10] VAL   acc/loss: 0.974/0.085\n",
      "[Iteration 7550/15000] TRAIN loss: 0.045\n",
      "[Iteration 7600/15000] TRAIN loss: 0.035\n",
      "[Iteration 7650/15000] TRAIN loss: 0.050\n",
      "[Iteration 7700/15000] TRAIN loss: 0.026\n",
      "[Iteration 7750/15000] TRAIN loss: 0.025\n",
      "[Iteration 7800/15000] TRAIN loss: 0.038\n",
      "[Iteration 7850/15000] TRAIN loss: 0.028\n",
      "[Iteration 7900/15000] TRAIN loss: 0.038\n",
      "[Iteration 7950/15000] TRAIN loss: 0.046\n",
      "[Iteration 8000/15000] TRAIN loss: 0.038\n",
      "[Iteration 8050/15000] TRAIN loss: 0.046\n",
      "[Iteration 8100/15000] TRAIN loss: 0.045\n",
      "[Iteration 8150/15000] TRAIN loss: 0.051\n",
      "[Iteration 8200/15000] TRAIN loss: 0.051\n",
      "[Iteration 8250/15000] TRAIN loss: 0.044\n",
      "[Iteration 8300/15000] TRAIN loss: 0.027\n",
      "[Iteration 8350/15000] TRAIN loss: 0.056\n",
      "[Iteration 8400/15000] TRAIN loss: 0.048\n",
      "[Iteration 8450/15000] TRAIN loss: 0.060\n",
      "[Iteration 8500/15000] TRAIN loss: 0.048\n",
      "[Iteration 8550/15000] TRAIN loss: 0.037\n",
      "[Iteration 8600/15000] TRAIN loss: 0.027\n",
      "[Iteration 8650/15000] TRAIN loss: 0.039\n",
      "[Iteration 8700/15000] TRAIN loss: 0.042\n",
      "[Iteration 8750/15000] TRAIN loss: 0.053\n",
      "[Iteration 8800/15000] TRAIN loss: 0.047\n",
      "[Iteration 8850/15000] TRAIN loss: 0.056\n",
      "[Iteration 8900/15000] TRAIN loss: 0.044\n",
      "[Iteration 8950/15000] TRAIN loss: 0.029\n",
      "[Iteration 9000/15000] TRAIN loss: 0.046\n",
      "[Epoch 6/10] TRAIN acc/loss: 0.969/0.046\n",
      "[Epoch 6/10] VAL   acc/loss: 0.978/0.076\n",
      "[Iteration 9050/15000] TRAIN loss: 0.031\n",
      "[Iteration 9100/15000] TRAIN loss: 0.056\n",
      "[Iteration 9150/15000] TRAIN loss: 0.031\n",
      "[Iteration 9200/15000] TRAIN loss: 0.044\n",
      "[Iteration 9250/15000] TRAIN loss: 0.032\n",
      "[Iteration 9300/15000] TRAIN loss: 0.032\n",
      "[Iteration 9350/15000] TRAIN loss: 0.031\n",
      "[Iteration 9400/15000] TRAIN loss: 0.045\n",
      "[Iteration 9450/15000] TRAIN loss: 0.046\n"
     ]
    },
    {
     "name": "stdout",
     "output_type": "stream",
     "text": [
      "[Iteration 9500/15000] TRAIN loss: 0.031\n",
      "[Iteration 9550/15000] TRAIN loss: 0.025\n",
      "[Iteration 9600/15000] TRAIN loss: 0.040\n",
      "[Iteration 9650/15000] TRAIN loss: 0.031\n",
      "[Iteration 9700/15000] TRAIN loss: 0.029\n",
      "[Iteration 9750/15000] TRAIN loss: 0.030\n",
      "[Iteration 9800/15000] TRAIN loss: 0.040\n",
      "[Iteration 9850/15000] TRAIN loss: 0.049\n",
      "[Iteration 9900/15000] TRAIN loss: 0.057\n",
      "[Iteration 9950/15000] TRAIN loss: 0.063\n",
      "[Iteration 10000/15000] TRAIN loss: 0.042\n",
      "[Iteration 10050/15000] TRAIN loss: 0.048\n",
      "[Iteration 10100/15000] TRAIN loss: 0.034\n",
      "[Iteration 10150/15000] TRAIN loss: 0.045\n",
      "[Iteration 10200/15000] TRAIN loss: 0.053\n",
      "[Iteration 10250/15000] TRAIN loss: 0.038\n",
      "[Iteration 10300/15000] TRAIN loss: 0.051\n",
      "[Iteration 10350/15000] TRAIN loss: 0.047\n",
      "[Iteration 10400/15000] TRAIN loss: 0.035\n",
      "[Iteration 10450/15000] TRAIN loss: 0.037\n",
      "[Iteration 10500/15000] TRAIN loss: 0.039\n",
      "[Epoch 7/10] TRAIN acc/loss: 1.000/0.039\n",
      "[Epoch 7/10] VAL   acc/loss: 0.982/0.059\n",
      "[Iteration 10550/15000] TRAIN loss: 0.029\n",
      "[Iteration 10600/15000] TRAIN loss: 0.036\n",
      "[Iteration 10650/15000] TRAIN loss: 0.017\n",
      "[Iteration 10700/15000] TRAIN loss: 0.028\n",
      "[Iteration 10750/15000] TRAIN loss: 0.033\n",
      "[Iteration 10800/15000] TRAIN loss: 0.024\n",
      "[Iteration 10850/15000] TRAIN loss: 0.016\n",
      "[Iteration 10900/15000] TRAIN loss: 0.020\n",
      "[Iteration 10950/15000] TRAIN loss: 0.044\n",
      "[Iteration 11000/15000] TRAIN loss: 0.034\n",
      "[Iteration 11050/15000] TRAIN loss: 0.025\n",
      "[Iteration 11100/15000] TRAIN loss: 0.036\n",
      "[Iteration 11150/15000] TRAIN loss: 0.031\n",
      "[Iteration 11200/15000] TRAIN loss: 0.028\n",
      "[Iteration 11250/15000] TRAIN loss: 0.024\n",
      "[Iteration 11300/15000] TRAIN loss: 0.038\n",
      "[Iteration 11350/15000] TRAIN loss: 0.061\n",
      "[Iteration 11400/15000] TRAIN loss: 0.030\n",
      "[Iteration 11450/15000] TRAIN loss: 0.024\n",
      "[Iteration 11500/15000] TRAIN loss: 0.022\n",
      "[Iteration 11550/15000] TRAIN loss: 0.052\n",
      "[Iteration 11600/15000] TRAIN loss: 0.040\n",
      "[Iteration 11650/15000] TRAIN loss: 0.026\n",
      "[Iteration 11700/15000] TRAIN loss: 0.034\n",
      "[Iteration 11750/15000] TRAIN loss: 0.025\n",
      "[Iteration 11800/15000] TRAIN loss: 0.041\n",
      "[Iteration 11850/15000] TRAIN loss: 0.024\n",
      "[Iteration 11900/15000] TRAIN loss: 0.065\n",
      "[Iteration 11950/15000] TRAIN loss: 0.032\n",
      "[Iteration 12000/15000] TRAIN loss: 0.037\n",
      "[Epoch 8/10] TRAIN acc/loss: 1.000/0.037\n",
      "[Epoch 8/10] VAL   acc/loss: 0.982/0.060\n",
      "[Iteration 12050/15000] TRAIN loss: 0.017\n",
      "[Iteration 12100/15000] TRAIN loss: 0.022\n",
      "[Iteration 12150/15000] TRAIN loss: 0.023\n",
      "[Iteration 12200/15000] TRAIN loss: 0.039\n",
      "[Iteration 12250/15000] TRAIN loss: 0.035\n",
      "[Iteration 12300/15000] TRAIN loss: 0.025\n",
      "[Iteration 12350/15000] TRAIN loss: 0.031\n",
      "[Iteration 12400/15000] TRAIN loss: 0.032\n",
      "[Iteration 12450/15000] TRAIN loss: 0.038\n",
      "[Iteration 12500/15000] TRAIN loss: 0.025\n",
      "[Iteration 12550/15000] TRAIN loss: 0.024\n",
      "[Iteration 12600/15000] TRAIN loss: 0.046\n",
      "[Iteration 12650/15000] TRAIN loss: 0.024\n",
      "[Iteration 12700/15000] TRAIN loss: 0.024\n",
      "[Iteration 12750/15000] TRAIN loss: 0.036\n",
      "[Iteration 12800/15000] TRAIN loss: 0.042\n",
      "[Iteration 12850/15000] TRAIN loss: 0.036\n",
      "[Iteration 12900/15000] TRAIN loss: 0.020\n",
      "[Iteration 12950/15000] TRAIN loss: 0.023\n",
      "[Iteration 13000/15000] TRAIN loss: 0.028\n",
      "[Iteration 13050/15000] TRAIN loss: 0.026\n",
      "[Iteration 13100/15000] TRAIN loss: 0.030\n",
      "[Iteration 13150/15000] TRAIN loss: 0.033\n",
      "[Iteration 13200/15000] TRAIN loss: 0.043\n",
      "[Iteration 13250/15000] TRAIN loss: 0.022\n",
      "[Iteration 13300/15000] TRAIN loss: 0.035\n",
      "[Iteration 13350/15000] TRAIN loss: 0.025\n",
      "[Iteration 13400/15000] TRAIN loss: 0.039\n",
      "[Iteration 13450/15000] TRAIN loss: 0.032\n",
      "[Iteration 13500/15000] TRAIN loss: 0.026\n",
      "[Epoch 9/10] TRAIN acc/loss: 0.969/0.026\n",
      "[Epoch 9/10] VAL   acc/loss: 0.983/0.062\n",
      "[Iteration 13550/15000] TRAIN loss: 0.019\n",
      "[Iteration 13600/15000] TRAIN loss: 0.031\n",
      "[Iteration 13650/15000] TRAIN loss: 0.044\n",
      "[Iteration 13700/15000] TRAIN loss: 0.018\n",
      "[Iteration 13750/15000] TRAIN loss: 0.017\n",
      "[Iteration 13800/15000] TRAIN loss: 0.017\n",
      "[Iteration 13850/15000] TRAIN loss: 0.017\n",
      "[Iteration 13900/15000] TRAIN loss: 0.019\n",
      "[Iteration 13950/15000] TRAIN loss: 0.032\n",
      "[Iteration 14000/15000] TRAIN loss: 0.022\n",
      "[Iteration 14050/15000] TRAIN loss: 0.043\n",
      "[Iteration 14100/15000] TRAIN loss: 0.033\n",
      "[Iteration 14150/15000] TRAIN loss: 0.033\n",
      "[Iteration 14200/15000] TRAIN loss: 0.018\n",
      "[Iteration 14250/15000] TRAIN loss: 0.013\n",
      "[Iteration 14300/15000] TRAIN loss: 0.017\n",
      "[Iteration 14350/15000] TRAIN loss: 0.021\n",
      "[Iteration 14400/15000] TRAIN loss: 0.032\n",
      "[Iteration 14450/15000] TRAIN loss: 0.027\n",
      "[Iteration 14500/15000] TRAIN loss: 0.031\n",
      "[Iteration 14550/15000] TRAIN loss: 0.039\n",
      "[Iteration 14600/15000] TRAIN loss: 0.036\n",
      "[Iteration 14650/15000] TRAIN loss: 0.029\n",
      "[Iteration 14700/15000] TRAIN loss: 0.026\n",
      "[Iteration 14750/15000] TRAIN loss: 0.026\n",
      "[Iteration 14800/15000] TRAIN loss: 0.037\n",
      "[Iteration 14850/15000] TRAIN loss: 0.040\n",
      "[Iteration 14900/15000] TRAIN loss: 0.031\n",
      "[Iteration 14950/15000] TRAIN loss: 0.030\n",
      "[Iteration 15000/15000] TRAIN loss: 0.035\n",
      "[Epoch 10/10] TRAIN acc/loss: 1.000/0.035\n",
      "[Epoch 10/10] VAL   acc/loss: 0.982/0.062\n",
      "FINISH.\n"
     ]
    }
   ],
   "source": [
    "batch_size = 32\n",
    "train_loader = torch.utils.data.DataLoader(\n",
    "                 dataset=train_dset,\n",
    "                 batch_size=batch_size,\n",
    "                 shuffle=True)\n",
    "val_loader = torch.utils.data.DataLoader(\n",
    "                dataset=val_dset,\n",
    "                batch_size=batch_size,\n",
    "                shuffle=False)\n",
    "\n",
    "solver = Solver(optim_args={\"lr\": 1e-3})\n",
    "\n",
    "# train rnn model\n",
    "solver.train(model_rnn, train_loader, val_loader, log_nth=50, num_epochs=10)"
   ]
  },
  {
   "cell_type": "markdown",
   "metadata": {},
   "source": [
    "Train your RNN classifier and try to tune the hyperparameters. With your simple RNN classifier you should exceed an accuracy higher than __90%__."
   ]
  },
  {
   "cell_type": "markdown",
   "metadata": {},
   "source": [
    "Try to improve your model by using a LSTM."
   ]
  },
  {
   "cell_type": "code",
   "execution_count": null,
   "metadata": {},
   "outputs": [],
   "source": [
    "from exercise_code.rnn.rnn_nn import LSTM_Classifier\n",
    "model= LSTM_Classifier()\n"
   ]
  },
  {
   "cell_type": "markdown",
   "metadata": {},
   "source": [
    "Train your LSTM model again and see wether it improves performance on the validation set"
   ]
  },
  {
   "cell_type": "markdown",
   "metadata": {},
   "source": [
    "# Test your Model\n",
    "When you are satisfied with your training, you can save the model. In order to be eligible for the bonus points you have to achieve a score higher than __97__."
   ]
  },
  {
   "cell_type": "markdown",
   "metadata": {},
   "source": [
    "## Save the Model\n",
    "\n",
    "When you are satisfied with your training, you can save the model."
   ]
  },
  {
   "cell_type": "code",
   "execution_count": null,
   "metadata": {},
   "outputs": [],
   "source": [
    "os.makedirs('models', exist_ok=True)\n",
    "model_rnn.save(\"models/rnn_mnist_nn.model\")"
   ]
  },
  {
   "cell_type": "code",
   "execution_count": null,
   "metadata": {},
   "outputs": [],
   "source": []
  }
 ],
 "metadata": {
  "kernelspec": {
   "display_name": "Python 3",
   "language": "python",
   "name": "python3"
  },
  "language_info": {
   "codemirror_mode": {
    "name": "ipython",
    "version": 3
   },
   "file_extension": ".py",
   "mimetype": "text/x-python",
   "name": "python",
   "nbconvert_exporter": "python",
   "pygments_lexer": "ipython3",
   "version": "3.7.4"
  }
 },
 "nbformat": 4,
 "nbformat_minor": 2
}
